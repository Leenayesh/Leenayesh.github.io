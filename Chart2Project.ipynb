{
  "nbformat": 4,
  "nbformat_minor": 0,
  "metadata": {
    "colab": {
      "name": "Chart2Project.ipynb",
      "provenance": [],
      "collapsed_sections": [],
      "include_colab_link": true
    },
    "kernelspec": {
      "name": "python3",
      "display_name": "Python 3"
    },
    "language_info": {
      "name": "python"
    }
  },
  "cells": [
    {
      "cell_type": "markdown",
      "metadata": {
        "id": "view-in-github",
        "colab_type": "text"
      },
      "source": [
        "<a href=\"https://colab.research.google.com/github/Leenayesh/Leenayesh.github.io/blob/main/Chart2Project.ipynb\" target=\"_parent\"><img src=\"https://colab.research.google.com/assets/colab-badge.svg\" alt=\"Open In Colab\"/></a>"
      ]
    },
    {
      "cell_type": "markdown",
      "metadata": {
        "id": "RSsWZusUh5u5"
      },
      "source": [
        "https://pypi.org/project/world-bank-data/\n",
        "\n",
        "\n"
      ]
    },
    {
      "cell_type": "markdown",
      "metadata": {
        "id": "9e_ktHPziDsq"
      },
      "source": [
        "The pandas way"
      ]
    },
    {
      "cell_type": "code",
      "metadata": {
        "id": "Xj_oB3JFlwQJ"
      },
      "source": [
        "import requests\n",
        "import pandas as pd"
      ],
      "execution_count": 1,
      "outputs": []
    },
    {
      "cell_type": "code",
      "metadata": {
        "id": "MRn_s3p9i1qm"
      },
      "source": [
        "countries=['SSF','MEA','SAS', 'EUU']"
      ],
      "execution_count": 2,
      "outputs": []
    },
    {
      "cell_type": "code",
      "metadata": {
        "id": "mzcFT-MpiH50"
      },
      "source": [
        "data=[]\n",
        "for country in countries:\n",
        "  url='https://api.worldbank.org/v2/country/'+country+'/indicator/SP.URB.TOTL.IN.ZS?format=json'\n",
        "  json_data=requests.get(url).json()[1]\n",
        "  data.append(json_data)"
      ],
      "execution_count": 3,
      "outputs": []
    },
    {
      "cell_type": "code",
      "metadata": {
        "id": "bpWWMXSgjHZj"
      },
      "source": [
        "import numpy as np"
      ],
      "execution_count": 4,
      "outputs": []
    },
    {
      "cell_type": "code",
      "metadata": {
        "id": "YC6jknM4l5CY"
      },
      "source": [
        "flat_data=np.array(data).flatten()"
      ],
      "execution_count": 5,
      "outputs": []
    },
    {
      "cell_type": "code",
      "metadata": {
        "colab": {
          "base_uri": "https://localhost:8080/",
          "height": 633
        },
        "id": "cVUDkgQSmcHi",
        "outputId": "7bcd0992-6cca-4aec-9442-058c366f8be2"
      },
      "source": [
        "df=pd.json_normalize(flat_data)\n",
        "df"
      ],
      "execution_count": null,
      "outputs": [
        {
          "output_type": "execute_result",
          "data": {
            "text/html": [
              "\n",
              "  <div id=\"df-1fdf57a8-10bc-412b-87f2-c3e9b1fdcb61\">\n",
              "    <div class=\"colab-df-container\">\n",
              "      <div>\n",
              "<style scoped>\n",
              "    .dataframe tbody tr th:only-of-type {\n",
              "        vertical-align: middle;\n",
              "    }\n",
              "\n",
              "    .dataframe tbody tr th {\n",
              "        vertical-align: top;\n",
              "    }\n",
              "\n",
              "    .dataframe thead th {\n",
              "        text-align: right;\n",
              "    }\n",
              "</style>\n",
              "<table border=\"1\" class=\"dataframe\">\n",
              "  <thead>\n",
              "    <tr style=\"text-align: right;\">\n",
              "      <th></th>\n",
              "      <th>countryiso3code</th>\n",
              "      <th>date</th>\n",
              "      <th>value</th>\n",
              "      <th>unit</th>\n",
              "      <th>obs_status</th>\n",
              "      <th>decimal</th>\n",
              "      <th>indicator.id</th>\n",
              "      <th>indicator.value</th>\n",
              "      <th>country.id</th>\n",
              "      <th>country.value</th>\n",
              "    </tr>\n",
              "  </thead>\n",
              "  <tbody>\n",
              "    <tr>\n",
              "      <th>0</th>\n",
              "      <td>SSF</td>\n",
              "      <td>2020</td>\n",
              "      <td>41.252142</td>\n",
              "      <td></td>\n",
              "      <td></td>\n",
              "      <td>0</td>\n",
              "      <td>SP.URB.TOTL.IN.ZS</td>\n",
              "      <td>Urban population (% of total population)</td>\n",
              "      <td>ZG</td>\n",
              "      <td>Sub-Saharan Africa</td>\n",
              "    </tr>\n",
              "    <tr>\n",
              "      <th>1</th>\n",
              "      <td>SSF</td>\n",
              "      <td>2019</td>\n",
              "      <td>40.712779</td>\n",
              "      <td></td>\n",
              "      <td></td>\n",
              "      <td>0</td>\n",
              "      <td>SP.URB.TOTL.IN.ZS</td>\n",
              "      <td>Urban population (% of total population)</td>\n",
              "      <td>ZG</td>\n",
              "      <td>Sub-Saharan Africa</td>\n",
              "    </tr>\n",
              "    <tr>\n",
              "      <th>2</th>\n",
              "      <td>SSF</td>\n",
              "      <td>2018</td>\n",
              "      <td>40.177086</td>\n",
              "      <td></td>\n",
              "      <td></td>\n",
              "      <td>0</td>\n",
              "      <td>SP.URB.TOTL.IN.ZS</td>\n",
              "      <td>Urban population (% of total population)</td>\n",
              "      <td>ZG</td>\n",
              "      <td>Sub-Saharan Africa</td>\n",
              "    </tr>\n",
              "    <tr>\n",
              "      <th>3</th>\n",
              "      <td>SSF</td>\n",
              "      <td>2017</td>\n",
              "      <td>39.644859</td>\n",
              "      <td></td>\n",
              "      <td></td>\n",
              "      <td>0</td>\n",
              "      <td>SP.URB.TOTL.IN.ZS</td>\n",
              "      <td>Urban population (% of total population)</td>\n",
              "      <td>ZG</td>\n",
              "      <td>Sub-Saharan Africa</td>\n",
              "    </tr>\n",
              "    <tr>\n",
              "      <th>4</th>\n",
              "      <td>SSF</td>\n",
              "      <td>2016</td>\n",
              "      <td>39.116254</td>\n",
              "      <td></td>\n",
              "      <td></td>\n",
              "      <td>0</td>\n",
              "      <td>SP.URB.TOTL.IN.ZS</td>\n",
              "      <td>Urban population (% of total population)</td>\n",
              "      <td>ZG</td>\n",
              "      <td>Sub-Saharan Africa</td>\n",
              "    </tr>\n",
              "    <tr>\n",
              "      <th>...</th>\n",
              "      <td>...</td>\n",
              "      <td>...</td>\n",
              "      <td>...</td>\n",
              "      <td>...</td>\n",
              "      <td>...</td>\n",
              "      <td>...</td>\n",
              "      <td>...</td>\n",
              "      <td>...</td>\n",
              "      <td>...</td>\n",
              "      <td>...</td>\n",
              "    </tr>\n",
              "    <tr>\n",
              "      <th>195</th>\n",
              "      <td>EUU</td>\n",
              "      <td>1975</td>\n",
              "      <td>65.988187</td>\n",
              "      <td></td>\n",
              "      <td></td>\n",
              "      <td>0</td>\n",
              "      <td>SP.URB.TOTL.IN.ZS</td>\n",
              "      <td>Urban population (% of total population)</td>\n",
              "      <td>EU</td>\n",
              "      <td>European Union</td>\n",
              "    </tr>\n",
              "    <tr>\n",
              "      <th>196</th>\n",
              "      <td>EUU</td>\n",
              "      <td>1974</td>\n",
              "      <td>65.651212</td>\n",
              "      <td></td>\n",
              "      <td></td>\n",
              "      <td>0</td>\n",
              "      <td>SP.URB.TOTL.IN.ZS</td>\n",
              "      <td>Urban population (% of total population)</td>\n",
              "      <td>EU</td>\n",
              "      <td>European Union</td>\n",
              "    </tr>\n",
              "    <tr>\n",
              "      <th>197</th>\n",
              "      <td>EUU</td>\n",
              "      <td>1973</td>\n",
              "      <td>65.271375</td>\n",
              "      <td></td>\n",
              "      <td></td>\n",
              "      <td>0</td>\n",
              "      <td>SP.URB.TOTL.IN.ZS</td>\n",
              "      <td>Urban population (% of total population)</td>\n",
              "      <td>EU</td>\n",
              "      <td>European Union</td>\n",
              "    </tr>\n",
              "    <tr>\n",
              "      <th>198</th>\n",
              "      <td>EUU</td>\n",
              "      <td>1972</td>\n",
              "      <td>64.879425</td>\n",
              "      <td></td>\n",
              "      <td></td>\n",
              "      <td>0</td>\n",
              "      <td>SP.URB.TOTL.IN.ZS</td>\n",
              "      <td>Urban population (% of total population)</td>\n",
              "      <td>EU</td>\n",
              "      <td>European Union</td>\n",
              "    </tr>\n",
              "    <tr>\n",
              "      <th>199</th>\n",
              "      <td>EUU</td>\n",
              "      <td>1971</td>\n",
              "      <td>64.469023</td>\n",
              "      <td></td>\n",
              "      <td></td>\n",
              "      <td>0</td>\n",
              "      <td>SP.URB.TOTL.IN.ZS</td>\n",
              "      <td>Urban population (% of total population)</td>\n",
              "      <td>EU</td>\n",
              "      <td>European Union</td>\n",
              "    </tr>\n",
              "  </tbody>\n",
              "</table>\n",
              "<p>200 rows × 10 columns</p>\n",
              "</div>\n",
              "      <button class=\"colab-df-convert\" onclick=\"convertToInteractive('df-1fdf57a8-10bc-412b-87f2-c3e9b1fdcb61')\"\n",
              "              title=\"Convert this dataframe to an interactive table.\"\n",
              "              style=\"display:none;\">\n",
              "        \n",
              "  <svg xmlns=\"http://www.w3.org/2000/svg\" height=\"24px\"viewBox=\"0 0 24 24\"\n",
              "       width=\"24px\">\n",
              "    <path d=\"M0 0h24v24H0V0z\" fill=\"none\"/>\n",
              "    <path d=\"M18.56 5.44l.94 2.06.94-2.06 2.06-.94-2.06-.94-.94-2.06-.94 2.06-2.06.94zm-11 1L8.5 8.5l.94-2.06 2.06-.94-2.06-.94L8.5 2.5l-.94 2.06-2.06.94zm10 10l.94 2.06.94-2.06 2.06-.94-2.06-.94-.94-2.06-.94 2.06-2.06.94z\"/><path d=\"M17.41 7.96l-1.37-1.37c-.4-.4-.92-.59-1.43-.59-.52 0-1.04.2-1.43.59L10.3 9.45l-7.72 7.72c-.78.78-.78 2.05 0 2.83L4 21.41c.39.39.9.59 1.41.59.51 0 1.02-.2 1.41-.59l7.78-7.78 2.81-2.81c.8-.78.8-2.07 0-2.86zM5.41 20L4 18.59l7.72-7.72 1.47 1.35L5.41 20z\"/>\n",
              "  </svg>\n",
              "      </button>\n",
              "      \n",
              "  <style>\n",
              "    .colab-df-container {\n",
              "      display:flex;\n",
              "      flex-wrap:wrap;\n",
              "      gap: 12px;\n",
              "    }\n",
              "\n",
              "    .colab-df-convert {\n",
              "      background-color: #E8F0FE;\n",
              "      border: none;\n",
              "      border-radius: 50%;\n",
              "      cursor: pointer;\n",
              "      display: none;\n",
              "      fill: #1967D2;\n",
              "      height: 32px;\n",
              "      padding: 0 0 0 0;\n",
              "      width: 32px;\n",
              "    }\n",
              "\n",
              "    .colab-df-convert:hover {\n",
              "      background-color: #E2EBFA;\n",
              "      box-shadow: 0px 1px 2px rgba(60, 64, 67, 0.3), 0px 1px 3px 1px rgba(60, 64, 67, 0.15);\n",
              "      fill: #174EA6;\n",
              "    }\n",
              "\n",
              "    [theme=dark] .colab-df-convert {\n",
              "      background-color: #3B4455;\n",
              "      fill: #D2E3FC;\n",
              "    }\n",
              "\n",
              "    [theme=dark] .colab-df-convert:hover {\n",
              "      background-color: #434B5C;\n",
              "      box-shadow: 0px 1px 3px 1px rgba(0, 0, 0, 0.15);\n",
              "      filter: drop-shadow(0px 1px 2px rgba(0, 0, 0, 0.3));\n",
              "      fill: #FFFFFF;\n",
              "    }\n",
              "  </style>\n",
              "\n",
              "      <script>\n",
              "        const buttonEl =\n",
              "          document.querySelector('#df-1fdf57a8-10bc-412b-87f2-c3e9b1fdcb61 button.colab-df-convert');\n",
              "        buttonEl.style.display =\n",
              "          google.colab.kernel.accessAllowed ? 'block' : 'none';\n",
              "\n",
              "        async function convertToInteractive(key) {\n",
              "          const element = document.querySelector('#df-1fdf57a8-10bc-412b-87f2-c3e9b1fdcb61');\n",
              "          const dataTable =\n",
              "            await google.colab.kernel.invokeFunction('convertToInteractive',\n",
              "                                                     [key], {});\n",
              "          if (!dataTable) return;\n",
              "\n",
              "          const docLinkHtml = 'Like what you see? Visit the ' +\n",
              "            '<a target=\"_blank\" href=https://colab.research.google.com/notebooks/data_table.ipynb>data table notebook</a>'\n",
              "            + ' to learn more about interactive tables.';\n",
              "          element.innerHTML = '';\n",
              "          dataTable['output_type'] = 'display_data';\n",
              "          await google.colab.output.renderOutput(dataTable, element);\n",
              "          const docLink = document.createElement('div');\n",
              "          docLink.innerHTML = docLinkHtml;\n",
              "          element.appendChild(docLink);\n",
              "        }\n",
              "      </script>\n",
              "    </div>\n",
              "  </div>\n",
              "  "
            ],
            "text/plain": [
              "    countryiso3code  date  ...  country.id       country.value\n",
              "0               SSF  2020  ...          ZG  Sub-Saharan Africa\n",
              "1               SSF  2019  ...          ZG  Sub-Saharan Africa\n",
              "2               SSF  2018  ...          ZG  Sub-Saharan Africa\n",
              "3               SSF  2017  ...          ZG  Sub-Saharan Africa\n",
              "4               SSF  2016  ...          ZG  Sub-Saharan Africa\n",
              "..              ...   ...  ...         ...                 ...\n",
              "195             EUU  1975  ...          EU      European Union\n",
              "196             EUU  1974  ...          EU      European Union\n",
              "197             EUU  1973  ...          EU      European Union\n",
              "198             EUU  1972  ...          EU      European Union\n",
              "199             EUU  1971  ...          EU      European Union\n",
              "\n",
              "[200 rows x 10 columns]"
            ]
          },
          "metadata": {},
          "execution_count": 103
        }
      ]
    },
    {
      "cell_type": "code",
      "source": [
        "df.to_csv('Myurbanpopulation.csv')"
      ],
      "metadata": {
        "id": "cLVCEDs7cX2_"
      },
      "execution_count": null,
      "outputs": []
    },
    {
      "cell_type": "markdown",
      "source": [
        "I then sorted the data on excel based off of country.value and created new columns with country.value as a header."
      ],
      "metadata": {
        "id": "8k8TYgE1wvd0"
      }
    }
  ]
}