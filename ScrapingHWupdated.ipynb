{
  "nbformat": 4,
  "nbformat_minor": 0,
  "metadata": {
    "colab": {
      "name": "Scraping2.ipynb",
      "provenance": [],
      "authorship_tag": "ABX9TyPEAOi00aBv5Y6KY2EqagaG",
      "include_colab_link": true
    },
    "kernelspec": {
      "name": "python3",
      "display_name": "Python 3"
    },
    "language_info": {
      "name": "python"
    }
  },
  "cells": [
    {
      "cell_type": "markdown",
      "metadata": {
        "id": "view-in-github",
        "colab_type": "text"
      },
      "source": [
        "<a href=\"https://colab.research.google.com/github/Leenayesh/Leenayesh.github.io/blob/main/ScrapingHWupdated.ipynb\" target=\"_parent\"><img src=\"https://colab.research.google.com/assets/colab-badge.svg\" alt=\"Open In Colab\"/></a>"
      ]
    },
    {
      "cell_type": "code",
      "metadata": {
        "id": "HywFIDbqNCLO"
      },
      "source": [
        "import numpy as np \n",
        "import pandas as pd"
      ],
      "execution_count": 1,
      "outputs": []
    },
    {
      "cell_type": "code",
      "metadata": {
        "id": "mjWQc80rNQDU"
      },
      "source": [
        "import requests "
      ],
      "execution_count": 2,
      "outputs": []
    },
    {
      "cell_type": "code",
      "metadata": {
        "id": "7G4gKj8BNSV3"
      },
      "source": [
        "from bs4 import BeautifulSoup"
      ],
      "execution_count": 3,
      "outputs": []
    },
    {
      "cell_type": "code",
      "metadata": {
        "id": "ihOLmGXVOaja"
      },
      "source": [
        "import os "
      ],
      "execution_count": 4,
      "outputs": []
    },
    {
      "cell_type": "code",
      "metadata": {
        "id": "2CC5u5BzObvC"
      },
      "source": [
        "URL = \"https://yougov.co.uk/ratings/food/popularity/supermarket-chains/all\""
      ],
      "execution_count": 5,
      "outputs": []
    },
    {
      "cell_type": "code",
      "metadata": {
        "id": "UpuAJEjpOgtd"
      },
      "source": [
        "html = requests.get(URL)\n",
        "soup = BeautifulSoup(html.content, 'html.parser')"
      ],
      "execution_count": 6,
      "outputs": []
    },
    {
      "cell_type": "code",
      "metadata": {
        "id": "ByG4iTm4QRxT"
      },
      "source": [
        "soup_span = soup.find_all(\"span\")\n",
        "#soup (it's too long which is why im hashtaging it)\n",
        "#soup_span (to find where our text is)"
      ],
      "execution_count": 8,
      "outputs": []
    },
    {
      "cell_type": "code",
      "metadata": {
        "id": "Mr8h5I-6QuV8"
      },
      "source": [
        "supermarket1 = soup_span[15].text\n",
        "supermarket2 = soup_span[22].text\n",
        "supermarket3 = soup_span[29].text\n",
        "supermarket4 = soup_span[36].text\n",
        "supermarket5 = soup_span[43].text\n",
        "supermarket6 = soup_span[50].text\n",
        "supermarket7 = soup_span[57].text\n",
        "supermarket8 = soup_span[64].text\n",
        "supermarket9 = soup_span[71].text\n",
        "supermarket10 = soup_span[78].text\n",
        "supermarket11 = soup_span[85].text\n",
        "supermarket12 = soup_span[92].text\n",
        "supermarket13 = soup_span[99].text\n",
        "supermarket14 = soup_span[106].text\n",
        "supermarket15 = soup_span[113].text\n",
        "supermarket16 = soup_span[120].text\n",
        "supermarket17 = soup_span[127].text\n",
        "supermarket18 = soup_span[134].text\n",
        "supermarket19 = soup_span[141].text\n",
        "supermarket20 = soup_span[148].text"
      ],
      "execution_count": 9,
      "outputs": []
    },
    {
      "cell_type": "code",
      "metadata": {
        "colab": {
          "base_uri": "https://localhost:8080/"
        },
        "id": "1-0oDji3S01R",
        "outputId": "f1366bf0-2753-4a86-eb04-66bbd5e7ac0b"
      },
      "source": [
        "soup_1 = soup.find_all(\"span\", class_=\"rankings-item-active\")\n",
        "#soup_1 (too long so im hashtaging)\n"
      ],
      "execution_count": 11,
      "outputs": [
        {
          "output_type": "execute_result",
          "data": {
            "text/plain": [
              "[<span _yg-server-content-sc252=\"\" class=\"rankings-item-active\"><span _yg-server-content-sc252=\"\">76%</span><i _yg-server-content-sc252=\"\" class=\"icon arrow-up\"></i></span>,\n",
              " <span _yg-server-content-sc252=\"\" class=\"rankings-item-active\"><span _yg-server-content-sc252=\"\">75%</span><i _yg-server-content-sc252=\"\" class=\"icon arrow-up\"></i></span>,\n",
              " <span _yg-server-content-sc252=\"\" class=\"rankings-item-active\"><span _yg-server-content-sc252=\"\">73%</span><i _yg-server-content-sc252=\"\" class=\"icon arrow-up\"></i></span>,\n",
              " <span _yg-server-content-sc252=\"\" class=\"rankings-item-active\"><span _yg-server-content-sc252=\"\">71%</span><i _yg-server-content-sc252=\"\" class=\"icon arrow-up\"></i></span>,\n",
              " <span _yg-server-content-sc252=\"\" class=\"rankings-item-active\"><span _yg-server-content-sc252=\"\">69%</span><i _yg-server-content-sc252=\"\" class=\"icon arrow-down\"></i></span>,\n",
              " <span _yg-server-content-sc252=\"\" class=\"rankings-item-active\"><span _yg-server-content-sc252=\"\">68%</span><i _yg-server-content-sc252=\"\" class=\"icon arrow-down\"></i></span>,\n",
              " <span _yg-server-content-sc252=\"\" class=\"rankings-item-active\"><span _yg-server-content-sc252=\"\">66%</span><i _yg-server-content-sc252=\"\" class=\"icon arrow-down\"></i></span>,\n",
              " <span _yg-server-content-sc252=\"\" class=\"rankings-item-active\"><span _yg-server-content-sc252=\"\">66%</span><i _yg-server-content-sc252=\"\" class=\"icon arrow-up\"></i></span>,\n",
              " <span _yg-server-content-sc252=\"\" class=\"rankings-item-active\"><span _yg-server-content-sc252=\"\">64%</span><i _yg-server-content-sc252=\"\" class=\"icon arrow-down\"></i></span>,\n",
              " <span _yg-server-content-sc252=\"\" class=\"rankings-item-active\"><span _yg-server-content-sc252=\"\">64%</span><i _yg-server-content-sc252=\"\" class=\"icon arrow-down\"></i></span>,\n",
              " <span _yg-server-content-sc252=\"\" class=\"rankings-item-active\"><span _yg-server-content-sc252=\"\">61%</span><i _yg-server-content-sc252=\"\" class=\"icon arrow-up\"></i></span>,\n",
              " <span _yg-server-content-sc252=\"\" class=\"rankings-item-active\"><span _yg-server-content-sc252=\"\">59%</span><i _yg-server-content-sc252=\"\" class=\"icon arrow-up\"></i></span>,\n",
              " <span _yg-server-content-sc252=\"\" class=\"rankings-item-active\"><span _yg-server-content-sc252=\"\">53%</span><i _yg-server-content-sc252=\"\" class=\"icon arrow-up\"></i></span>,\n",
              " <span _yg-server-content-sc252=\"\" class=\"rankings-item-active\"><span _yg-server-content-sc252=\"\">46%</span><i _yg-server-content-sc252=\"\" class=\"icon arrow-up\"></i></span>,\n",
              " <span _yg-server-content-sc252=\"\" class=\"rankings-item-active\"><span _yg-server-content-sc252=\"\">45%</span><i _yg-server-content-sc252=\"\" class=\"icon arrow-down\"></i></span>,\n",
              " <span _yg-server-content-sc252=\"\" class=\"rankings-item-active\"><span _yg-server-content-sc252=\"\">38%</span><i _yg-server-content-sc252=\"\" class=\"icon arrow-down\"></i></span>,\n",
              " <span _yg-server-content-sc252=\"\" class=\"rankings-item-active\"><span _yg-server-content-sc252=\"\">37%</span><i _yg-server-content-sc252=\"\" class=\"icon arrow-down\"></i></span>,\n",
              " <span _yg-server-content-sc252=\"\" class=\"rankings-item-active\"><span _yg-server-content-sc252=\"\">32%</span><i _yg-server-content-sc252=\"\" class=\"icon arrow-up\"></i></span>,\n",
              " <span _yg-server-content-sc252=\"\" class=\"rankings-item-active\"><span _yg-server-content-sc252=\"\">31%</span><i _yg-server-content-sc252=\"\" class=\"icon arrow-up\"></i></span>,\n",
              " <span _yg-server-content-sc252=\"\" class=\"rankings-item-active\"><span _yg-server-content-sc252=\"\">30%</span><i _yg-server-content-sc252=\"\" class=\"icon arrow-up\"></i></span>]"
            ]
          },
          "metadata": {},
          "execution_count": 11
        }
      ]
    },
    {
      "cell_type": "code",
      "metadata": {
        "id": "_OgTfNzUVJKA"
      },
      "source": [
        "popularity1 = soup_1[0].text\n",
        "popularity2 = soup_1[1].text\n",
        "popularity3 = soup_1[2].text\n",
        "popularity4 = soup_1[3].text\n",
        "popularity5 = soup_1[4].text\n",
        "popularity6 = soup_1[5].text\n",
        "popularity7 = soup_1[6].text\n",
        "popularity8 = soup_1[7].text\n",
        "popularity9 = soup_1[8].text\n",
        "popularity10 = soup_1[9].text\n",
        "popularity11 = soup_1[10].text\n",
        "popularity12 = soup_1[11].text\n",
        "popularity13 = soup_1[12].text\n",
        "popularity14 = soup_1[13].text\n",
        "popularity15 = soup_1[14].text\n",
        "popularity16 = soup_1[15].text\n",
        "popularity17 = soup_1[16].text\n",
        "popularity18 = soup_1[18].text\n",
        "popularity19 = soup_1[19].text\n",
        "\n",
        "\n",
        "\n",
        "\n",
        "\n",
        "\n",
        "\n"
      ],
      "execution_count": 12,
      "outputs": []
    },
    {
      "cell_type": "code",
      "metadata": {
        "id": "ZR7UUPP1aCsK"
      },
      "source": [
        "numpy_array =np.array([[supermarket1, popularity1], [supermarket2, popularity2], [supermarket3, popularity3], [supermarket4, popularity4], [supermarket5, popularity5], [supermarket6, popularity6], [supermarket7, popularity7], [supermarket8, popularity8], [supermarket9, popularity9], [supermarket10, popularity10], [supermarket11, popularity11], [supermarket12, popularity12]])"
      ],
      "execution_count": 13,
      "outputs": []
    },
    {
      "cell_type": "code",
      "metadata": {
        "id": "S0-TG6nAg-TV"
      },
      "source": [
        "df = pd.DataFrame(numpy_array)"
      ],
      "execution_count": 14,
      "outputs": []
    },
    {
      "cell_type": "code",
      "metadata": {
        "colab": {
          "base_uri": "https://localhost:8080/",
          "height": 35
        },
        "id": "eIedRMsfYIXO",
        "outputId": "b2359c2d-6b2a-4355-ec58-436a25840640"
      },
      "source": [
        "str. rstrip(\"%\",\"\") "
      ],
      "execution_count": 15,
      "outputs": [
        {
          "output_type": "execute_result",
          "data": {
            "application/vnd.google.colaboratory.intrinsic+json": {
              "type": "string"
            },
            "text/plain": [
              "'%'"
            ]
          },
          "metadata": {},
          "execution_count": 15
        }
      ]
    },
    {
      "cell_type": "code",
      "metadata": {
        "colab": {
          "base_uri": "https://localhost:8080/",
          "height": 359
        },
        "id": "Io2tk_yJhGY1",
        "outputId": "28f06660-7d97-44f7-8c7e-1c28ded5aa66"
      },
      "source": [
        "df.head(10)"
      ],
      "execution_count": 16,
      "outputs": [
        {
          "output_type": "execute_result",
          "data": {
            "text/html": [
              "\n",
              "  <div id=\"df-54c201e8-82c0-4557-a162-fdb9927431e9\">\n",
              "    <div class=\"colab-df-container\">\n",
              "      <div>\n",
              "<style scoped>\n",
              "    .dataframe tbody tr th:only-of-type {\n",
              "        vertical-align: middle;\n",
              "    }\n",
              "\n",
              "    .dataframe tbody tr th {\n",
              "        vertical-align: top;\n",
              "    }\n",
              "\n",
              "    .dataframe thead th {\n",
              "        text-align: right;\n",
              "    }\n",
              "</style>\n",
              "<table border=\"1\" class=\"dataframe\">\n",
              "  <thead>\n",
              "    <tr style=\"text-align: right;\">\n",
              "      <th></th>\n",
              "      <th>0</th>\n",
              "      <th>1</th>\n",
              "    </tr>\n",
              "  </thead>\n",
              "  <tbody>\n",
              "    <tr>\n",
              "      <th>0</th>\n",
              "      <td>Aldi</td>\n",
              "      <td>76%</td>\n",
              "    </tr>\n",
              "    <tr>\n",
              "      <th>1</th>\n",
              "      <td>M &amp; S Food</td>\n",
              "      <td>75%</td>\n",
              "    </tr>\n",
              "    <tr>\n",
              "      <th>2</th>\n",
              "      <td>Lidl</td>\n",
              "      <td>73%</td>\n",
              "    </tr>\n",
              "    <tr>\n",
              "      <th>3</th>\n",
              "      <td>The Co-operative Food</td>\n",
              "      <td>71%</td>\n",
              "    </tr>\n",
              "    <tr>\n",
              "      <th>4</th>\n",
              "      <td>Morrisons</td>\n",
              "      <td>69%</td>\n",
              "    </tr>\n",
              "    <tr>\n",
              "      <th>5</th>\n",
              "      <td>Sainsbury&amp;aposs</td>\n",
              "      <td>68%</td>\n",
              "    </tr>\n",
              "    <tr>\n",
              "      <th>6</th>\n",
              "      <td>Tesco</td>\n",
              "      <td>66%</td>\n",
              "    </tr>\n",
              "    <tr>\n",
              "      <th>7</th>\n",
              "      <td>Iceland</td>\n",
              "      <td>66%</td>\n",
              "    </tr>\n",
              "    <tr>\n",
              "      <th>8</th>\n",
              "      <td>ASDA</td>\n",
              "      <td>64%</td>\n",
              "    </tr>\n",
              "    <tr>\n",
              "      <th>9</th>\n",
              "      <td>Tesco Express</td>\n",
              "      <td>64%</td>\n",
              "    </tr>\n",
              "  </tbody>\n",
              "</table>\n",
              "</div>\n",
              "      <button class=\"colab-df-convert\" onclick=\"convertToInteractive('df-54c201e8-82c0-4557-a162-fdb9927431e9')\"\n",
              "              title=\"Convert this dataframe to an interactive table.\"\n",
              "              style=\"display:none;\">\n",
              "        \n",
              "  <svg xmlns=\"http://www.w3.org/2000/svg\" height=\"24px\"viewBox=\"0 0 24 24\"\n",
              "       width=\"24px\">\n",
              "    <path d=\"M0 0h24v24H0V0z\" fill=\"none\"/>\n",
              "    <path d=\"M18.56 5.44l.94 2.06.94-2.06 2.06-.94-2.06-.94-.94-2.06-.94 2.06-2.06.94zm-11 1L8.5 8.5l.94-2.06 2.06-.94-2.06-.94L8.5 2.5l-.94 2.06-2.06.94zm10 10l.94 2.06.94-2.06 2.06-.94-2.06-.94-.94-2.06-.94 2.06-2.06.94z\"/><path d=\"M17.41 7.96l-1.37-1.37c-.4-.4-.92-.59-1.43-.59-.52 0-1.04.2-1.43.59L10.3 9.45l-7.72 7.72c-.78.78-.78 2.05 0 2.83L4 21.41c.39.39.9.59 1.41.59.51 0 1.02-.2 1.41-.59l7.78-7.78 2.81-2.81c.8-.78.8-2.07 0-2.86zM5.41 20L4 18.59l7.72-7.72 1.47 1.35L5.41 20z\"/>\n",
              "  </svg>\n",
              "      </button>\n",
              "      \n",
              "  <style>\n",
              "    .colab-df-container {\n",
              "      display:flex;\n",
              "      flex-wrap:wrap;\n",
              "      gap: 12px;\n",
              "    }\n",
              "\n",
              "    .colab-df-convert {\n",
              "      background-color: #E8F0FE;\n",
              "      border: none;\n",
              "      border-radius: 50%;\n",
              "      cursor: pointer;\n",
              "      display: none;\n",
              "      fill: #1967D2;\n",
              "      height: 32px;\n",
              "      padding: 0 0 0 0;\n",
              "      width: 32px;\n",
              "    }\n",
              "\n",
              "    .colab-df-convert:hover {\n",
              "      background-color: #E2EBFA;\n",
              "      box-shadow: 0px 1px 2px rgba(60, 64, 67, 0.3), 0px 1px 3px 1px rgba(60, 64, 67, 0.15);\n",
              "      fill: #174EA6;\n",
              "    }\n",
              "\n",
              "    [theme=dark] .colab-df-convert {\n",
              "      background-color: #3B4455;\n",
              "      fill: #D2E3FC;\n",
              "    }\n",
              "\n",
              "    [theme=dark] .colab-df-convert:hover {\n",
              "      background-color: #434B5C;\n",
              "      box-shadow: 0px 1px 3px 1px rgba(0, 0, 0, 0.15);\n",
              "      filter: drop-shadow(0px 1px 2px rgba(0, 0, 0, 0.3));\n",
              "      fill: #FFFFFF;\n",
              "    }\n",
              "  </style>\n",
              "\n",
              "      <script>\n",
              "        const buttonEl =\n",
              "          document.querySelector('#df-54c201e8-82c0-4557-a162-fdb9927431e9 button.colab-df-convert');\n",
              "        buttonEl.style.display =\n",
              "          google.colab.kernel.accessAllowed ? 'block' : 'none';\n",
              "\n",
              "        async function convertToInteractive(key) {\n",
              "          const element = document.querySelector('#df-54c201e8-82c0-4557-a162-fdb9927431e9');\n",
              "          const dataTable =\n",
              "            await google.colab.kernel.invokeFunction('convertToInteractive',\n",
              "                                                     [key], {});\n",
              "          if (!dataTable) return;\n",
              "\n",
              "          const docLinkHtml = 'Like what you see? Visit the ' +\n",
              "            '<a target=\"_blank\" href=https://colab.research.google.com/notebooks/data_table.ipynb>data table notebook</a>'\n",
              "            + ' to learn more about interactive tables.';\n",
              "          element.innerHTML = '';\n",
              "          dataTable['output_type'] = 'display_data';\n",
              "          await google.colab.output.renderOutput(dataTable, element);\n",
              "          const docLink = document.createElement('div');\n",
              "          docLink.innerHTML = docLinkHtml;\n",
              "          element.appendChild(docLink);\n",
              "        }\n",
              "      </script>\n",
              "    </div>\n",
              "  </div>\n",
              "  "
            ],
            "text/plain": [
              "                       0    1\n",
              "0                   Aldi  76%\n",
              "1             M & S Food  75%\n",
              "2                   Lidl  73%\n",
              "3  The Co-operative Food  71%\n",
              "4              Morrisons  69%\n",
              "5        Sainsbury&aposs  68%\n",
              "6                  Tesco  66%\n",
              "7                Iceland  66%\n",
              "8                   ASDA  64%\n",
              "9          Tesco Express  64%"
            ]
          },
          "metadata": {},
          "execution_count": 16
        }
      ]
    },
    {
      "cell_type": "code",
      "metadata": {
        "colab": {
          "base_uri": "https://localhost:8080/",
          "height": 307
        },
        "id": "jp26O_Gqa8vl",
        "outputId": "59230779-69b6-41a9-9428-a4e63a4e8487"
      },
      "source": [
        "df['0'] = list(map(lambda x:x[:-1], df['1'].values))"
      ],
      "execution_count": 20,
      "outputs": [
        {
          "output_type": "error",
          "ename": "KeyError",
          "evalue": "ignored",
          "traceback": [
            "\u001b[0;31m---------------------------------------------------------------------------\u001b[0m",
            "\u001b[0;31mKeyError\u001b[0m                                  Traceback (most recent call last)",
            "\u001b[0;32m<ipython-input-20-0f0bad93db74>\u001b[0m in \u001b[0;36m<module>\u001b[0;34m()\u001b[0m\n\u001b[0;32m----> 1\u001b[0;31m \u001b[0mdf\u001b[0m\u001b[0;34m[\u001b[0m\u001b[0;34m'0'\u001b[0m\u001b[0;34m]\u001b[0m \u001b[0;34m=\u001b[0m \u001b[0mlist\u001b[0m\u001b[0;34m(\u001b[0m\u001b[0mmap\u001b[0m\u001b[0;34m(\u001b[0m\u001b[0;32mlambda\u001b[0m \u001b[0mx\u001b[0m\u001b[0;34m:\u001b[0m\u001b[0mx\u001b[0m\u001b[0;34m[\u001b[0m\u001b[0;34m:\u001b[0m\u001b[0;34m-\u001b[0m\u001b[0;36m1\u001b[0m\u001b[0;34m]\u001b[0m\u001b[0;34m,\u001b[0m \u001b[0mdf\u001b[0m\u001b[0;34m[\u001b[0m\u001b[0;34m'1'\u001b[0m\u001b[0;34m]\u001b[0m\u001b[0;34m.\u001b[0m\u001b[0mvalues\u001b[0m\u001b[0;34m)\u001b[0m\u001b[0;34m)\u001b[0m\u001b[0;34m\u001b[0m\u001b[0;34m\u001b[0m\u001b[0m\n\u001b[0m",
            "\u001b[0;32m/usr/local/lib/python3.7/dist-packages/pandas/core/frame.py\u001b[0m in \u001b[0;36m__getitem__\u001b[0;34m(self, key)\u001b[0m\n\u001b[1;32m   2904\u001b[0m             \u001b[0;32mif\u001b[0m \u001b[0mself\u001b[0m\u001b[0;34m.\u001b[0m\u001b[0mcolumns\u001b[0m\u001b[0;34m.\u001b[0m\u001b[0mnlevels\u001b[0m \u001b[0;34m>\u001b[0m \u001b[0;36m1\u001b[0m\u001b[0;34m:\u001b[0m\u001b[0;34m\u001b[0m\u001b[0;34m\u001b[0m\u001b[0m\n\u001b[1;32m   2905\u001b[0m                 \u001b[0;32mreturn\u001b[0m \u001b[0mself\u001b[0m\u001b[0;34m.\u001b[0m\u001b[0m_getitem_multilevel\u001b[0m\u001b[0;34m(\u001b[0m\u001b[0mkey\u001b[0m\u001b[0;34m)\u001b[0m\u001b[0;34m\u001b[0m\u001b[0;34m\u001b[0m\u001b[0m\n\u001b[0;32m-> 2906\u001b[0;31m             \u001b[0mindexer\u001b[0m \u001b[0;34m=\u001b[0m \u001b[0mself\u001b[0m\u001b[0;34m.\u001b[0m\u001b[0mcolumns\u001b[0m\u001b[0;34m.\u001b[0m\u001b[0mget_loc\u001b[0m\u001b[0;34m(\u001b[0m\u001b[0mkey\u001b[0m\u001b[0;34m)\u001b[0m\u001b[0;34m\u001b[0m\u001b[0;34m\u001b[0m\u001b[0m\n\u001b[0m\u001b[1;32m   2907\u001b[0m             \u001b[0;32mif\u001b[0m \u001b[0mis_integer\u001b[0m\u001b[0;34m(\u001b[0m\u001b[0mindexer\u001b[0m\u001b[0;34m)\u001b[0m\u001b[0;34m:\u001b[0m\u001b[0;34m\u001b[0m\u001b[0;34m\u001b[0m\u001b[0m\n\u001b[1;32m   2908\u001b[0m                 \u001b[0mindexer\u001b[0m \u001b[0;34m=\u001b[0m \u001b[0;34m[\u001b[0m\u001b[0mindexer\u001b[0m\u001b[0;34m]\u001b[0m\u001b[0;34m\u001b[0m\u001b[0;34m\u001b[0m\u001b[0m\n",
            "\u001b[0;32m/usr/local/lib/python3.7/dist-packages/pandas/core/indexes/range.py\u001b[0m in \u001b[0;36mget_loc\u001b[0;34m(self, key, method, tolerance)\u001b[0m\n\u001b[1;32m    356\u001b[0m                 \u001b[0;32mexcept\u001b[0m \u001b[0mValueError\u001b[0m \u001b[0;32mas\u001b[0m \u001b[0merr\u001b[0m\u001b[0;34m:\u001b[0m\u001b[0;34m\u001b[0m\u001b[0;34m\u001b[0m\u001b[0m\n\u001b[1;32m    357\u001b[0m                     \u001b[0;32mraise\u001b[0m \u001b[0mKeyError\u001b[0m\u001b[0;34m(\u001b[0m\u001b[0mkey\u001b[0m\u001b[0;34m)\u001b[0m \u001b[0;32mfrom\u001b[0m \u001b[0merr\u001b[0m\u001b[0;34m\u001b[0m\u001b[0;34m\u001b[0m\u001b[0m\n\u001b[0;32m--> 358\u001b[0;31m             \u001b[0;32mraise\u001b[0m \u001b[0mKeyError\u001b[0m\u001b[0;34m(\u001b[0m\u001b[0mkey\u001b[0m\u001b[0;34m)\u001b[0m\u001b[0;34m\u001b[0m\u001b[0;34m\u001b[0m\u001b[0m\n\u001b[0m\u001b[1;32m    359\u001b[0m         \u001b[0;32mreturn\u001b[0m \u001b[0msuper\u001b[0m\u001b[0;34m(\u001b[0m\u001b[0;34m)\u001b[0m\u001b[0;34m.\u001b[0m\u001b[0mget_loc\u001b[0m\u001b[0;34m(\u001b[0m\u001b[0mkey\u001b[0m\u001b[0;34m,\u001b[0m \u001b[0mmethod\u001b[0m\u001b[0;34m=\u001b[0m\u001b[0mmethod\u001b[0m\u001b[0;34m,\u001b[0m \u001b[0mtolerance\u001b[0m\u001b[0;34m=\u001b[0m\u001b[0mtolerance\u001b[0m\u001b[0;34m)\u001b[0m\u001b[0;34m\u001b[0m\u001b[0;34m\u001b[0m\u001b[0m\n\u001b[1;32m    360\u001b[0m \u001b[0;34m\u001b[0m\u001b[0m\n",
            "\u001b[0;31mKeyError\u001b[0m: '1'"
          ]
        }
      ]
    },
    {
      "cell_type": "code",
      "metadata": {
        "colab": {
          "base_uri": "https://localhost:8080/",
          "height": 359
        },
        "id": "UccvqCRrbHGz",
        "outputId": "6677ded0-0ade-45a2-b8d0-e3c73f613475"
      },
      "source": [
        "df.head(10)"
      ],
      "execution_count": 21,
      "outputs": [
        {
          "output_type": "execute_result",
          "data": {
            "text/html": [
              "\n",
              "  <div id=\"df-34559e93-b68a-4a45-a7bf-7ed76bf945a3\">\n",
              "    <div class=\"colab-df-container\">\n",
              "      <div>\n",
              "<style scoped>\n",
              "    .dataframe tbody tr th:only-of-type {\n",
              "        vertical-align: middle;\n",
              "    }\n",
              "\n",
              "    .dataframe tbody tr th {\n",
              "        vertical-align: top;\n",
              "    }\n",
              "\n",
              "    .dataframe thead th {\n",
              "        text-align: right;\n",
              "    }\n",
              "</style>\n",
              "<table border=\"1\" class=\"dataframe\">\n",
              "  <thead>\n",
              "    <tr style=\"text-align: right;\">\n",
              "      <th></th>\n",
              "      <th>0</th>\n",
              "      <th>1</th>\n",
              "    </tr>\n",
              "  </thead>\n",
              "  <tbody>\n",
              "    <tr>\n",
              "      <th>0</th>\n",
              "      <td>Aldi</td>\n",
              "      <td>76%</td>\n",
              "    </tr>\n",
              "    <tr>\n",
              "      <th>1</th>\n",
              "      <td>M &amp; S Food</td>\n",
              "      <td>75%</td>\n",
              "    </tr>\n",
              "    <tr>\n",
              "      <th>2</th>\n",
              "      <td>Lidl</td>\n",
              "      <td>73%</td>\n",
              "    </tr>\n",
              "    <tr>\n",
              "      <th>3</th>\n",
              "      <td>The Co-operative Food</td>\n",
              "      <td>71%</td>\n",
              "    </tr>\n",
              "    <tr>\n",
              "      <th>4</th>\n",
              "      <td>Morrisons</td>\n",
              "      <td>69%</td>\n",
              "    </tr>\n",
              "    <tr>\n",
              "      <th>5</th>\n",
              "      <td>Sainsbury&amp;aposs</td>\n",
              "      <td>68%</td>\n",
              "    </tr>\n",
              "    <tr>\n",
              "      <th>6</th>\n",
              "      <td>Tesco</td>\n",
              "      <td>66%</td>\n",
              "    </tr>\n",
              "    <tr>\n",
              "      <th>7</th>\n",
              "      <td>Iceland</td>\n",
              "      <td>66%</td>\n",
              "    </tr>\n",
              "    <tr>\n",
              "      <th>8</th>\n",
              "      <td>ASDA</td>\n",
              "      <td>64%</td>\n",
              "    </tr>\n",
              "    <tr>\n",
              "      <th>9</th>\n",
              "      <td>Tesco Express</td>\n",
              "      <td>64%</td>\n",
              "    </tr>\n",
              "  </tbody>\n",
              "</table>\n",
              "</div>\n",
              "      <button class=\"colab-df-convert\" onclick=\"convertToInteractive('df-34559e93-b68a-4a45-a7bf-7ed76bf945a3')\"\n",
              "              title=\"Convert this dataframe to an interactive table.\"\n",
              "              style=\"display:none;\">\n",
              "        \n",
              "  <svg xmlns=\"http://www.w3.org/2000/svg\" height=\"24px\"viewBox=\"0 0 24 24\"\n",
              "       width=\"24px\">\n",
              "    <path d=\"M0 0h24v24H0V0z\" fill=\"none\"/>\n",
              "    <path d=\"M18.56 5.44l.94 2.06.94-2.06 2.06-.94-2.06-.94-.94-2.06-.94 2.06-2.06.94zm-11 1L8.5 8.5l.94-2.06 2.06-.94-2.06-.94L8.5 2.5l-.94 2.06-2.06.94zm10 10l.94 2.06.94-2.06 2.06-.94-2.06-.94-.94-2.06-.94 2.06-2.06.94z\"/><path d=\"M17.41 7.96l-1.37-1.37c-.4-.4-.92-.59-1.43-.59-.52 0-1.04.2-1.43.59L10.3 9.45l-7.72 7.72c-.78.78-.78 2.05 0 2.83L4 21.41c.39.39.9.59 1.41.59.51 0 1.02-.2 1.41-.59l7.78-7.78 2.81-2.81c.8-.78.8-2.07 0-2.86zM5.41 20L4 18.59l7.72-7.72 1.47 1.35L5.41 20z\"/>\n",
              "  </svg>\n",
              "      </button>\n",
              "      \n",
              "  <style>\n",
              "    .colab-df-container {\n",
              "      display:flex;\n",
              "      flex-wrap:wrap;\n",
              "      gap: 12px;\n",
              "    }\n",
              "\n",
              "    .colab-df-convert {\n",
              "      background-color: #E8F0FE;\n",
              "      border: none;\n",
              "      border-radius: 50%;\n",
              "      cursor: pointer;\n",
              "      display: none;\n",
              "      fill: #1967D2;\n",
              "      height: 32px;\n",
              "      padding: 0 0 0 0;\n",
              "      width: 32px;\n",
              "    }\n",
              "\n",
              "    .colab-df-convert:hover {\n",
              "      background-color: #E2EBFA;\n",
              "      box-shadow: 0px 1px 2px rgba(60, 64, 67, 0.3), 0px 1px 3px 1px rgba(60, 64, 67, 0.15);\n",
              "      fill: #174EA6;\n",
              "    }\n",
              "\n",
              "    [theme=dark] .colab-df-convert {\n",
              "      background-color: #3B4455;\n",
              "      fill: #D2E3FC;\n",
              "    }\n",
              "\n",
              "    [theme=dark] .colab-df-convert:hover {\n",
              "      background-color: #434B5C;\n",
              "      box-shadow: 0px 1px 3px 1px rgba(0, 0, 0, 0.15);\n",
              "      filter: drop-shadow(0px 1px 2px rgba(0, 0, 0, 0.3));\n",
              "      fill: #FFFFFF;\n",
              "    }\n",
              "  </style>\n",
              "\n",
              "      <script>\n",
              "        const buttonEl =\n",
              "          document.querySelector('#df-34559e93-b68a-4a45-a7bf-7ed76bf945a3 button.colab-df-convert');\n",
              "        buttonEl.style.display =\n",
              "          google.colab.kernel.accessAllowed ? 'block' : 'none';\n",
              "\n",
              "        async function convertToInteractive(key) {\n",
              "          const element = document.querySelector('#df-34559e93-b68a-4a45-a7bf-7ed76bf945a3');\n",
              "          const dataTable =\n",
              "            await google.colab.kernel.invokeFunction('convertToInteractive',\n",
              "                                                     [key], {});\n",
              "          if (!dataTable) return;\n",
              "\n",
              "          const docLinkHtml = 'Like what you see? Visit the ' +\n",
              "            '<a target=\"_blank\" href=https://colab.research.google.com/notebooks/data_table.ipynb>data table notebook</a>'\n",
              "            + ' to learn more about interactive tables.';\n",
              "          element.innerHTML = '';\n",
              "          dataTable['output_type'] = 'display_data';\n",
              "          await google.colab.output.renderOutput(dataTable, element);\n",
              "          const docLink = document.createElement('div');\n",
              "          docLink.innerHTML = docLinkHtml;\n",
              "          element.appendChild(docLink);\n",
              "        }\n",
              "      </script>\n",
              "    </div>\n",
              "  </div>\n",
              "  "
            ],
            "text/plain": [
              "                       0    1\n",
              "0                   Aldi  76%\n",
              "1             M & S Food  75%\n",
              "2                   Lidl  73%\n",
              "3  The Co-operative Food  71%\n",
              "4              Morrisons  69%\n",
              "5        Sainsbury&aposs  68%\n",
              "6                  Tesco  66%\n",
              "7                Iceland  66%\n",
              "8                   ASDA  64%\n",
              "9          Tesco Express  64%"
            ]
          },
          "metadata": {},
          "execution_count": 21
        }
      ]
    },
    {
      "cell_type": "code",
      "metadata": {
        "id": "nYa5VN9zhM4-"
      },
      "source": [
        "df.to_csv('my_data_scraping.csv')"
      ],
      "execution_count": null,
      "outputs": []
    }
  ]
}