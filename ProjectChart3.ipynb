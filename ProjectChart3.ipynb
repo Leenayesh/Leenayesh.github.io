{
  "nbformat": 4,
  "nbformat_minor": 0,
  "metadata": {
    "celltoolbar": "Tags",
    "kernelspec": {
      "display_name": "Python 3",
      "language": "python",
      "name": "python3"
    },
    "language_info": {
      "codemirror_mode": {
        "name": "ipython",
        "version": 3
      },
      "file_extension": ".py",
      "mimetype": "text/x-python",
      "name": "python",
      "nbconvert_exporter": "python",
      "pygments_lexer": "ipython3",
      "version": "3.7.7"
    },
    "colab": {
      "name": "ProjectChart4.ipynb",
      "provenance": [],
      "collapsed_sections": [],
      "include_colab_link": true
    }
  },
  "cells": [
    {
      "cell_type": "markdown",
      "metadata": {
        "id": "view-in-github",
        "colab_type": "text"
      },
      "source": [
        "<a href=\"https://colab.research.google.com/github/Leenayesh/Leenayesh.github.io/blob/main/ProjectChart3.ipynb\" target=\"_parent\"><img src=\"https://colab.research.google.com/assets/colab-badge.svg\" alt=\"Open In Colab\"/></a>"
      ]
    },
    {
      "cell_type": "code",
      "metadata": {
        "id": "mxQ94tn5Qm53"
      },
      "source": [
        "import requests, json, pandas as pd, numpy as np"
      ],
      "execution_count": null,
      "outputs": []
    },
    {
      "cell_type": "markdown",
      "metadata": {
        "id": "kdXRD3fdQBW-"
      },
      "source": [
        "# Maps\n",
        "## Chorpleth map\n",
        "Shaded areas"
      ]
    },
    {
      "cell_type": "code",
      "metadata": {
        "id": "SAGQqvTbWWW-"
      },
      "source": [
        "topo=requests.get('https://raw.githubusercontent.com/deldersveld/topojson/master/continents/africa.json').json()"
      ],
      "execution_count": null,
      "outputs": []
    },
    {
      "cell_type": "code",
      "metadata": {
        "colab": {
          "base_uri": "https://localhost:8080/"
        },
        "id": "hgmF0oTkWXoO",
        "outputId": "1f77d137-c595-4fbc-db23-7d8d50a1d963"
      },
      "source": [
        "for i in topo['objects']['continent_Africa_subunits']['geometries']:\n",
        "  print(i['properties']['geounit'])"
      ],
      "execution_count": null,
      "outputs": [
        {
          "output_type": "stream",
          "name": "stdout",
          "text": [
            "Angola\n",
            "Burundi\n",
            "Benin\n",
            "Burkina Faso\n",
            "French Southern and Antarctic Lands\n",
            "Botswana\n",
            "Central African Republic\n",
            "Ivory Coast\n",
            "Cameroon\n",
            "Democratic Republic of the Congo\n",
            "Republic of Congo\n",
            "Comoros\n",
            "Cape Verde\n",
            "Djibouti\n",
            "Algeria\n",
            "Egypt\n",
            "Eritrea\n",
            "Spain\n",
            "Ethiopia\n",
            "French Southern and Antarctic Lands\n",
            "Gabon\n",
            "Ghana\n",
            "Guinea\n",
            "Gambia\n",
            "Equatorial Guinea\n",
            "Guinea Bissau\n",
            "Equatorial Guinea\n",
            "Equatorial Guinea\n",
            "French Southern and Antarctic Lands\n",
            "Kenya\n",
            "Liberia\n",
            "Libya\n",
            "Lesotho\n",
            "Morocco\n",
            "Madagascar\n",
            "Mali\n",
            "Mozambique\n",
            "Mauritania\n",
            "Malawi\n",
            "Mayotte\n",
            "Namibia\n",
            "Niger\n",
            "Nigeria\n",
            "Madeira\n",
            "Rwanda\n",
            "Western Sahara\n",
            "Sudan\n",
            "South Sudan\n",
            "Spain\n",
            "Spain\n",
            "Senegal\n",
            "Sierra Leone\n",
            "Somaliland\n",
            "Puntland\n",
            "Somalia\n",
            "Sao Tome and Principe\n",
            "Sao Tome and Principe\n",
            "Swaziland\n",
            "Chad\n",
            "Togo\n",
            "Tunisia\n",
            "Tanzania\n",
            "Zanzibar\n",
            "Uganda\n",
            "South Africa\n",
            "Zambia\n",
            "Zimbabwe\n"
          ]
        }
      ]
    },
    {
      "cell_type": "code",
      "metadata": {
        "id": "KdhK_j_nWcn-"
      },
      "source": [
        "import pandas as pd\n",
        "data=pd.read_csv('https://raw.githubusercontent.com/Leenayesh/Leenayesh.github.io/main/ProjectChart4.csv').set_index('Country')"
      ],
      "execution_count": null,
      "outputs": []
    },
    {
      "cell_type": "code",
      "metadata": {
        "colab": {
          "base_uri": "https://localhost:8080/"
        },
        "id": "6bEnYBVQWkot",
        "outputId": "6281e319-c9bb-48ad-b924-0f4b19a8c160"
      },
      "source": [
        "for i in topo['objects']['continent_Africa_subunits']['geometries']:\n",
        "  country=i['properties']['geounit']\n",
        "  if country in data.index:\n",
        "    print(country,'found! Extending data..')\n",
        "    i['properties']['epi']=data.loc[country]['Gender Parity Index ']"
      ],
      "execution_count": null,
      "outputs": [
        {
          "output_type": "stream",
          "name": "stdout",
          "text": [
            "Angola found! Extending data..\n",
            "Burundi found! Extending data..\n",
            "Benin found! Extending data..\n",
            "Burkina Faso found! Extending data..\n",
            "Botswana found! Extending data..\n",
            "Cameroon found! Extending data..\n",
            "Democratic Republic of the Congo found! Extending data..\n",
            "Cape Verde found! Extending data..\n",
            "Ethiopia found! Extending data..\n",
            "Ghana found! Extending data..\n",
            "Guinea found! Extending data..\n",
            "Gambia found! Extending data..\n",
            "Kenya found! Extending data..\n",
            "Liberia found! Extending data..\n",
            "Lesotho found! Extending data..\n",
            "Madagascar found! Extending data..\n",
            "Mali found! Extending data..\n",
            "Mozambique found! Extending data..\n",
            "Malawi found! Extending data..\n",
            "Namibia found! Extending data..\n",
            "Niger found! Extending data..\n",
            "Nigeria found! Extending data..\n",
            "Rwanda found! Extending data..\n",
            "Senegal found! Extending data..\n",
            "Sierra Leone found! Extending data..\n",
            "Chad found! Extending data..\n",
            "Togo found! Extending data..\n",
            "Tanzania found! Extending data..\n",
            "Uganda found! Extending data..\n",
            "South Africa found! Extending data..\n",
            "Zambia found! Extending data..\n",
            "Zimbabwe found! Extending data..\n"
          ]
        }
      ]
    },
    {
      "cell_type": "code",
      "metadata": {
        "colab": {
          "base_uri": "https://localhost:8080/"
        },
        "id": "eDsY6ht0Wkhu",
        "outputId": "ff889d56-6048-47c0-a508-7d4320f5b12b"
      },
      "source": [
        "topo['objects']['continent_Africa_subunits']['geometries'][3]['properties']"
      ],
      "execution_count": null,
      "outputs": [
        {
          "output_type": "execute_result",
          "data": {
            "text/plain": [
              "{'epi': 0.65, 'geounit': 'Burkina Faso', 'type': 'Sovereign country'}"
            ]
          },
          "metadata": {},
          "execution_count": 19
        }
      ]
    },
    {
      "cell_type": "markdown",
      "metadata": {
        "id": "8-iIF--bWz5u"
      },
      "source": [
        "Done! Export the updated `json` file, upload to github, load with Vega."
      ]
    },
    {
      "cell_type": "code",
      "metadata": {
        "colab": {
          "base_uri": "https://localhost:8080/"
        },
        "id": "OhDi7DNdWkZu",
        "outputId": "ea80f974-1a09-406a-8160-ed45eb7be783"
      },
      "source": [
        "import json\n",
        "open('Projectchart4topojson_export.json','w').write(json.dumps(topo))"
      ],
      "execution_count": null,
      "outputs": [
        {
          "output_type": "execute_result",
          "data": {
            "text/plain": [
              "21096"
            ]
          },
          "metadata": {},
          "execution_count": 20
        }
      ]
    }
  ]
}